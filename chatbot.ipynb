{
  "nbformat": 4,
  "nbformat_minor": 0,
  "metadata": {
    "colab": {
      "provenance": []
    },
    "kernelspec": {
      "name": "python3",
      "display_name": "Python 3"
    },
    "language_info": {
      "name": "python"
    }
  },
  "cells": [
    {
      "cell_type": "code",
      "source": [
        "def chatbot():\n",
        "    print(\"Hello! I'm your friendly chatbot. How can I assist you today?\")\n",
        "    print(\"Type 'exit' to end the conversation.\")\n",
        "\n",
        "    while True:\n",
        "        user_input = input(\"You: \").strip().lower()\n",
        "\n",
        "        if user_input == 'exit':\n",
        "            print(\"Chatbot: Goodbye! Take care and have a wonderful day!\")\n",
        "            break\n",
        "        elif 'hello' in user_input or 'hi' in user_input:\n",
        "            print(\"Chatbot: Hi there! It's great to hear from you. How can I help?\")\n",
        "        elif 'how are you' in user_input:\n",
        "            print(\"Chatbot: I'm here and ready to assist you! How are you doing?\")\n",
        "        elif 'your name' in user_input:\n",
        "            print(\"Chatbot: I'm your friendly chatbot, here to help with whatever you need.\")\n",
        "        elif 'what can you do' in user_input:\n",
        "            print(\"Chatbot: I can chat with you, answer simple questions, and try to make your day a little brighter!\")\n",
        "        elif 'weather' in user_input:\n",
        "            print(\"Chatbot: I wish I could check the weather for you, but I'm sure it's a great day to be awesome!\")\n",
        "        elif 'joke' in user_input:\n",
        "            print(\"Chatbot: Sure! Here's one: Why don't scientists trust atoms? Because they make up everything! Haha!\")\n",
        "        elif 'programming language' in user_input:\n",
        "            print(\"Chatbot: There are many amazing programming languages, like Python, JavaScript, Java, and C++. What's your favorite?\")\n",
        "        elif 'python' in user_input:\n",
        "            print(\"Chatbot: Python is fantastic for its readability and versatility. Have you tried coding in Python?\")\n",
        "        elif 'java' in user_input:\n",
        "            print(\"Chatbot: Java is powerful, especially for large-scale applications. It's been around for a long time and is still going strong!\")\n",
        "        elif 'javascript' in user_input:\n",
        "            print(\"Chatbot: JavaScript brings web pages to life! It's essential for creating interactive and dynamic web experiences.\")\n",
        "        elif 'c++' in user_input:\n",
        "            print(\"Chatbot: C++ is known for its performance and is often used in systems programming. It's a bit challenging but very rewarding!\")\n",
        "        elif 'math' in user_input:\n",
        "            try:\n",
        "                expression = input(\"Chatbot: I'd love to help! Enter a simple math expression (e.g., 2 + 2): \")\n",
        "                result = eval(expression)\n",
        "                print(f\"Chatbot: The result is {result}. Math is fun, isn't it?\")\n",
        "            except:\n",
        "                print(\"Chatbot: Oops, I couldn't evaluate that expression. Let's try a simpler one!\")\n",
        "        elif 'date' in user_input:\n",
        "            from datetime import datetime\n",
        "            current_date = datetime.now().strftime(\"%Y-%m-%d\")\n",
        "            print(f\"Chatbot: Today's date is {current_date}. Time flies, doesn't it?\")\n",
        "        elif 'time' in user_input:\n",
        "            from datetime import datetime\n",
        "            current_time = datetime.now().strftime(\"%H:%M:%S\")\n",
        "            print(f\"Chatbot: The current time is {current_time}. What a perfect moment to chat!\")\n",
        "        elif 'thank you' in user_input or 'thanks' in user_input:\n",
        "            print(\"Chatbot: You're very welcome! I'm here to help anytime you need.\")\n",
        "        elif 'bye' in user_input:\n",
        "            print(\"Chatbot: Goodbye! It was great chatting with you. Have a wonderful day!\")\n",
        "            break\n",
        "        else:\n",
        "            print(\"Chatbot: Hmm, I'm not sure I understand that. Could you please rephrase or ask something else?\")\n",
        "\n",
        "if __name__ == '__main__':\n",
        "    chatbot()\n"
      ],
      "metadata": {
        "colab": {
          "base_uri": "https://localhost:8080/"
        },
        "id": "le8Ojanlt9q0",
        "outputId": "d21c09ce-2d41-42ed-869a-44bc9ee2582b"
      },
      "execution_count": null,
      "outputs": [
        {
          "output_type": "stream",
          "name": "stdout",
          "text": [
            "Hello! I'm your friendly chatbot. How can I assist you today?\n",
            "Type 'exit' to end the conversation.\n",
            "You: how is the weather\n",
            "Chatbot: I wish I could check the weather for you, but I'm sure it's a great day to be awesome!\n",
            "You: what is c++\n",
            "Chatbot: C++ is known for its performance and is often used in systems programming. It's a bit challenging but very rewarding!\n",
            "You: what is java\n",
            "Chatbot: Java is powerful, especially for large-scale applications. It's been around for a long time and is still going strong!\n",
            "You: what is 2+ 2\n",
            "Chatbot: Hmm, I'm not sure I understand that. Could you please rephrase or ask something else?\n"
          ]
        }
      ]
    }
  ]
}